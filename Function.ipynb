{
  "nbformat": 4,
  "nbformat_minor": 0,
  "metadata": {
    "colab": {
      "provenance": [],
      "include_colab_link": true
    },
    "kernelspec": {
      "name": "python3",
      "display_name": "Python 3"
    },
    "language_info": {
      "name": "python"
    }
  },
  "cells": [
    {
      "cell_type": "markdown",
      "metadata": {
        "id": "view-in-github",
        "colab_type": "text"
      },
      "source": [
        "<a href=\"https://colab.research.google.com/github/Anya-28/Assignment/blob/main/Function.ipynb\" target=\"_parent\"><img src=\"https://colab.research.google.com/assets/colab-badge.svg\" alt=\"Open In Colab\"/></a>"
      ]
    },
    {
      "cell_type": "markdown",
      "source": [],
      "metadata": {
        "id": "74ot1DxtuAdg"
      }
    },
    {
      "cell_type": "markdown",
      "source": [
        "# **THEORY**"
      ],
      "metadata": {
        "id": "vtp-b-CDuASE"
      }
    },
    {
      "cell_type": "markdown",
      "source": [
        "1. Difference Between a Function and a Method in Python\n",
        "\n",
        "\n",
        "\n"
      ],
      "metadata": {
        "id": "gIFS2j49uAo5"
      }
    },
    {
      "cell_type": "markdown",
      "source": [
        "Answer: Function: A function is a block of code that performs a specific task and can be called independently.\n",
        "\n",
        "Method: A method is a function that is associated with an object and is called on that object.\n",
        "\n",
        "\n",
        "Example:\n",
        "def greet(name):\n",
        "return f\"Hello, {name}!\"\n",
        "class Person:\n",
        "    def __init__(self, name):\n",
        "        self.name = name\n",
        "    def greet(self):\n",
        "        return f\"Hello, {self.name}!\"\n",
        "# Calling function\n",
        "print(greet(\"Alice\"))\n",
        "# Calling method\n",
        "p = Person(\"Bob\")\n",
        "print(p.greet())\n",
        "Output:\n",
        "Hello, Alice!\n",
        "Hello, Bob!"
      ],
      "metadata": {
        "id": "lf0E1bKK00Kz"
      }
    },
    {
      "cell_type": "markdown",
      "source": [
        "2. Function Arguments and Parameters in Python\n"
      ],
      "metadata": {
        "id": "IlItdeE9t_5x"
      }
    },
    {
      "cell_type": "markdown",
      "source": [
        "Answer:\n",
        "Parameter: A variable in the function definition.\n",
        "Argument: The value passed to the function when calling it.\n",
        "\n",
        "\n",
        "Example:\n",
        "def add(a, b):  # a and b are parameters\n",
        "return a + b\n",
        "result = add(3, 5)  # 3 and 5 are arguments\n",
        "print(result)\n",
        "Output:\n",
        "8\n"
      ],
      "metadata": {
        "id": "2PDY3GxF1Ey6"
      }
    },
    {
      "cell_type": "markdown",
      "source": [
        "3. Ways to Define and Call a Function in Python\n"
      ],
      "metadata": {
        "id": "an0sOD_i25kz"
      }
    },
    {
      "cell_type": "markdown",
      "source": [
        "Answer:\n",
        "Standard Function:\n",
        "      def multiply(x, y):\n",
        "         return x * y\n",
        "      print(multiply(2, 3))\n",
        "\n",
        "Lambda Function (Anonymous function):\n",
        "square = lambda x: x * x\n",
        "print(square(4))\n",
        "\n",
        "Output:\n",
        "6\n",
        "16\n"
      ],
      "metadata": {
        "id": "T5TkagPR289K"
      }
    },
    {
      "cell_type": "markdown",
      "source": [
        "4. Purpose of the return Statement in a Python Function\n"
      ],
      "metadata": {
        "id": "jz9DZx243C-A"
      }
    },
    {
      "cell_type": "markdown",
      "source": [
        "Answer:\n",
        "The return statement terminates the function and optionally passes a value back to the caller.\n",
        "Example:\n",
        "def subtract(x, y):\n",
        "return x - y\n",
        "result = subtract(10, 4)\n",
        "print(result)\n",
        "Output:\n",
        "6\n"
      ],
      "metadata": {
        "id": "ES6tvbGm3GGf"
      }
    },
    {
      "cell_type": "markdown",
      "source": [
        "5. Iterators vs Iterables in Python\n"
      ],
      "metadata": {
        "id": "P6JtXo0K3Koi"
      }
    },
    {
      "cell_type": "markdown",
      "source": [
        "Answer:\n",
        "Iterable: An object capable of returning its members one at a time, permitting it to be iterated over in a for-loop.\n",
        "\n",
        "\n",
        "Iterator: An object representing a stream of data; it returns the next item in the sequence when next() is called.\n",
        "\n",
        "\n",
        "Example:\n",
        "# Iterable\n",
        "lst = [1, 2, 3]\n",
        "for item in lst:\n",
        " print(item)\n",
        "# Iterator\n",
        "it = iter(lst)\n",
        "print(next(it))\n",
        "print(next(it))\n",
        "Output:\n",
        "1\n",
        "2\n",
        "3\n",
        "1\n",
        "2\n"
      ],
      "metadata": {
        "id": "6x-Opoki3NUp"
      }
    },
    {
      "cell_type": "markdown",
      "source": [
        "6. Generators in Python\n"
      ],
      "metadata": {
        "id": "PWIC1Slc3RFW"
      }
    },
    {
      "cell_type": "markdown",
      "source": [
        "Answer:\n",
        "Generators are functions that yield items one at a time using the yield keyword, allowing iteration over large datasets efficiently.\n",
        "Example:\n",
        "      def count_up_to(n):\n",
        "  count = 1   \n",
        " while count <= n:    \n",
        "    yield count\n",
        " count += 1\n",
        "for number in count_up_to(5):\n",
        "    print(number)\n",
        "Output:\n",
        "1\n",
        "2\n",
        "3\n",
        "4\n",
        "5\n"
      ],
      "metadata": {
        "id": "r3ZmTfjO3UAY"
      }
    },
    {
      "cell_type": "markdown",
      "source": [
        "7. Advantages of Using Generators Over Regular Functions\n"
      ],
      "metadata": {
        "id": "zo9v73sd3XBI"
      }
    },
    {
      "cell_type": "markdown",
      "source": [
        "Answer: Memory Efficiency: Generators yield items one at a time, consuming less memory.\n",
        "\n",
        "\n",
        "Lazy Evaluation: Values are produced only when needed.\n",
        "\n",
        "\n",
        "Convenience: Useful for reading large files or streams.\n"
      ],
      "metadata": {
        "id": "1NoAy3Fj3ZIp"
      }
    },
    {
      "cell_type": "markdown",
      "source": [
        "8. Lambda Function in Python\n"
      ],
      "metadata": {
        "id": "Q0h4Vw_M3z5v"
      }
    },
    {
      "cell_type": "markdown",
      "source": [
        "Answer:\n",
        "A lambda function is a small anonymous function defined with the lambda keyword.\n",
        "Example:\n",
        "double = lambda x: x * 2\n",
        "print(double(5))\n",
        "Output:\n",
        "10\n"
      ],
      "metadata": {
        "id": "oMocI3fm32QI"
      }
    },
    {
      "cell_type": "markdown",
      "source": [
        "9. Purpose and Usage of the map() Function in Python\n"
      ],
      "metadata": {
        "id": "knc43Eu137-P"
      }
    },
    {
      "cell_type": "markdown",
      "source": [
        "Answer:\n",
        "The map() function applies a given function to all items in an input list (or any iterable).\n",
        "Example:\n",
        "numbers = [1, 2, 3, 4]\n",
        "squared = map(lambda x: x ** 2, numbers)\n",
        "print(list(squared))\n",
        "Output: [1, 4, 9, 16]\n"
      ],
      "metadata": {
        "id": "oxOrvOtm3_IA"
      }
    },
    {
      "cell_type": "markdown",
      "source": [
        "10. Difference Between map(), reduce(), and filter() Functions in Python\n"
      ],
      "metadata": {
        "id": "nPV9XxpY4EEe"
      }
    },
    {
      "cell_type": "markdown",
      "source": [
        "Answer:\n",
        "map(): Applies a function to all items in an iterable.\n",
        "\n",
        "\n",
        "filter(): Filters items in an iterable based on a function that returns a boolean.\n",
        "\n",
        "\n",
        "reduce(): Applies a rolling computation to sequential pairs of values in an iterable.\n",
        "\n",
        "\n",
        "Examples:\n",
        "from functools import reduce\n",
        "# map()\n",
        "numbers = [1, 2, 3, 4]\n",
        "squared = map(lambda x: x ** 2, numbers)\n",
        "print(list(squared))\n",
        "# filter()\n",
        "even = filter(lambda x: x % 2 == 0, numbers)\n",
        "print(list(even))\n",
        "\n",
        "# reduce()\n",
        "product = reduce(lambda x, y: x * y, numbers)\n",
        "print(product)\n",
        "\n",
        "Output:\n",
        "[1, 4, 9, 16]\n",
        "[2, 4]\n",
        "24\n"
      ],
      "metadata": {
        "id": "G79dgOTz4HCg"
      }
    },
    {
      "cell_type": "markdown",
      "source": [
        "11. Using pen & Paper write the internal mechanism for sum operation using  reduce function on this given list:[47,11,42,13];"
      ],
      "metadata": {
        "id": "oBF9wLDS4MzH"
      }
    },
    {
      "cell_type": "markdown",
      "source": [
        "Answer:\n",
        "![WhatsApp Image 2025-06-27 at 20.58.30.jpeg](data:image/jpeg;base64,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)\n"
      ],
      "metadata": {
        "id": "_mFSpH8t4PQf"
      }
    },
    {
      "cell_type": "markdown",
      "source": [
        "# **PRACTICAL**"
      ],
      "metadata": {
        "id": "mMuAynUk0cl6"
      }
    },
    {
      "cell_type": "markdown",
      "source": [
        "1. Write a Python function that takes a list of numbers as input and returns the sum of all even numbers in\n",
        "the list."
      ],
      "metadata": {
        "id": "hF4AG9wBiq19"
      }
    },
    {
      "cell_type": "code",
      "source": [
        "def sum_even(numbers):\n",
        "    return sum(num for num in numbers if num % 2 == 0)\n",
        "\n",
        "print(\"1. Sum of Even Numbers:\", sum_even([1, 2, 3, 4, 5, 6]))\n",
        "\n",
        "\n"
      ],
      "metadata": {
        "colab": {
          "base_uri": "https://localhost:8080/"
        },
        "id": "gICPqGs3jGes",
        "outputId": "1148a2d0-31b9-424b-8ac9-a71a2ebe49ab"
      },
      "execution_count": null,
      "outputs": [
        {
          "output_type": "stream",
          "name": "stdout",
          "text": [
            "1. Sum of Even Numbers: 12\n"
          ]
        }
      ]
    },
    {
      "cell_type": "markdown",
      "source": [
        "2. Create a Python function that accepts a string and returns the reverse of that string."
      ],
      "metadata": {
        "id": "LPmcyr5Vl5bF"
      }
    },
    {
      "cell_type": "code",
      "source": [
        "''' the slice statement [::-1] means start at the end of the string and end at position 0,\n",
        "move with the step -1, negative one, which means one step backwards.'''\n",
        "\n",
        "def reverse_string(s):\n",
        "    return s[::-1]\n",
        "\n",
        "print(\"2. Reversed String:\", reverse_string(\"Python\"))\n"
      ],
      "metadata": {
        "colab": {
          "base_uri": "https://localhost:8080/"
        },
        "id": "xP7P8hbqmGe7",
        "outputId": "040e3003-e03d-49b9-83c9-25bb56551ca1"
      },
      "execution_count": null,
      "outputs": [
        {
          "output_type": "stream",
          "name": "stdout",
          "text": [
            "2. Reversed String: nohtyP\n"
          ]
        }
      ]
    },
    {
      "cell_type": "markdown",
      "source": [
        "3. Implement a Python function that takes a list of integers and returns a new list containing the squares of\n",
        "each number."
      ],
      "metadata": {
        "id": "eFTyfXv2tDxx"
      }
    },
    {
      "cell_type": "code",
      "source": [
        "def square_list(numbers):\n",
        "    return [num ** 2 for num in numbers]\n",
        "\n",
        "\n",
        "print(\"3. Squares:\", square_list([1, 2, 3, 4]))"
      ],
      "metadata": {
        "colab": {
          "base_uri": "https://localhost:8080/"
        },
        "id": "tlLgcIP88mWi",
        "outputId": "8a20e631-387d-42bb-eb08-0ee37ca58178"
      },
      "execution_count": null,
      "outputs": [
        {
          "output_type": "stream",
          "name": "stdout",
          "text": [
            "3. Squares: [1, 4, 9, 16]\n"
          ]
        }
      ]
    },
    {
      "cell_type": "markdown",
      "source": [
        "4. Write a Python function that checks if a given number is prime or not from 1 to 200."
      ],
      "metadata": {
        "id": "_clXlH8BHhlN"
      }
    },
    {
      "cell_type": "code",
      "source": [
        "is_prime = lambda n: n > 1 and all(n % i for i in range(2, int(n**0.5) + 1))\n",
        "print(\"4.Primes from1 to 200:\",[n for n in range(1, 201) if is_prime(n)])\n"
      ],
      "metadata": {
        "colab": {
          "base_uri": "https://localhost:8080/"
        },
        "id": "pgYHdTU7z7D1",
        "outputId": "e9382b0c-2c2a-42c3-8caa-ac5ebf51d66f"
      },
      "execution_count": null,
      "outputs": [
        {
          "output_type": "stream",
          "name": "stdout",
          "text": [
            "4.Primes from1 to 200: [2, 3, 5, 7, 11, 13, 17, 19, 23, 29, 31, 37, 41, 43, 47, 53, 59, 61, 67, 71, 73, 79, 83, 89, 97, 101, 103, 107, 109, 113, 127, 131, 137, 139, 149, 151, 157, 163, 167, 173, 179, 181, 191, 193, 197, 199]\n"
          ]
        }
      ]
    },
    {
      "cell_type": "markdown",
      "source": [
        "5. Create an iterator class in Python that generates the Fibonacci sequence up to a specified number of terms."
      ],
      "metadata": {
        "id": "Je8iZxhv2_09"
      }
    },
    {
      "cell_type": "code",
      "source": [
        "class Fibonacci:\n",
        "    def __init__(self, terms):\n",
        "        self.terms = terms\n",
        "        self.a, self.b = 0, 1\n",
        "        self.count = 0\n",
        "\n",
        "    def __iter__(self):\n",
        "        return self\n",
        "\n",
        "    def __next__(self):\n",
        "        if self.count >= self.terms:\n",
        "            raise StopIteration\n",
        "        val = self.a\n",
        "        self.a, self.b = self.b, self.a + self.b\n",
        "        self.count += 1\n",
        "        return val\n",
        "\n",
        "print(\"5. Fibonacci Sequence:\")\n",
        "for num in Fibonacci(10):\n",
        "    print(num, end=\" \")\n",
        "print()\n"
      ],
      "metadata": {
        "colab": {
          "base_uri": "https://localhost:8080/"
        },
        "id": "Q7IpPqcf3H8k",
        "outputId": "77bfc428-b40d-4240-9aa3-0ff038915d54"
      },
      "execution_count": null,
      "outputs": [
        {
          "output_type": "stream",
          "name": "stdout",
          "text": [
            "5. Fibonacci Sequence:\n",
            "0 1 1 2 3 5 8 13 21 34 \n"
          ]
        }
      ]
    },
    {
      "cell_type": "markdown",
      "source": [
        "6. Write a generator function in Python that yields the powers of 2 up to a given exponent."
      ],
      "metadata": {
        "id": "kXuglUqp7D9_"
      }
    },
    {
      "cell_type": "code",
      "source": [
        "def power_generator(base, exponent):\n",
        "    result = 1\n",
        "    for i in range(exponent + 1):\n",
        "        yield result\n",
        "        result *= base\n",
        "\n",
        "# Accept input from the user\n",
        "base = int(\"2\")\n",
        "exponent = int(input(\"6.Input the exponent: \"))\n",
        "\n",
        "# Create the generator object\n",
        "power_gen = power_generator(base, exponent)\n",
        "\n",
        "# Generate and print the powers\n",
        "print(f\"Powers of {base} up to exponent {exponent}:\")\n",
        "for power in power_gen:\n",
        "    print(power)\n"
      ],
      "metadata": {
        "colab": {
          "base_uri": "https://localhost:8080/"
        },
        "id": "k0pq3Zmr8cWq",
        "outputId": "afb0265b-dafd-460a-b356-7ea0aa0cc9dd"
      },
      "execution_count": null,
      "outputs": [
        {
          "output_type": "stream",
          "name": "stdout",
          "text": [
            "6.Input the exponent: 3\n",
            "Powers of 2 up to exponent 3:\n",
            "1\n",
            "2\n",
            "4\n",
            "8\n"
          ]
        }
      ]
    },
    {
      "cell_type": "markdown",
      "source": [
        "7. Implement a generator function that reads a file line by line and yields each line as a string."
      ],
      "metadata": {
        "id": "5z5s3eCAnesG"
      }
    },
    {
      "cell_type": "code",
      "source": [
        "def read_file_lines(filename):\n",
        "    with open(filename, 'r') as file:\n",
        "        for line in file:\n",
        "            yield line.strip()\n",
        "\n",
        "print(\"7. File Lines:\")\n",
        "with open(\"sample.txt\", \"w\") as f:\n",
        "    f.write(\"Hello\\nWorld\\nPython\\n\")\n",
        "\n",
        "for line in read_file_lines(\"sample.txt\"):\n",
        "    print(line)\n",
        "\n"
      ],
      "metadata": {
        "colab": {
          "base_uri": "https://localhost:8080/"
        },
        "id": "m0ZXKFMFoqg4",
        "outputId": "298b8e9b-c1bf-4797-e200-a13052cb998a"
      },
      "execution_count": null,
      "outputs": [
        {
          "output_type": "stream",
          "name": "stdout",
          "text": [
            "7. File Lines:\n",
            "Hello\n",
            "World\n",
            "Python\n"
          ]
        }
      ]
    },
    {
      "cell_type": "markdown",
      "source": [
        "8. Use a lambda function in Python to sort a list of tuples based on the second element of each tuple."
      ],
      "metadata": {
        "id": "8LPVAHJnyOPQ"
      }
    },
    {
      "cell_type": "code",
      "source": [
        "tuples = [(3, 'c'), (1, 'b'), (2, 'a')]\n",
        "sorted_tuples = sorted(tuples, key=lambda x: x[1])\n",
        "print(\"8. Sorted Tuples:\", sorted_tuples)"
      ],
      "metadata": {
        "colab": {
          "base_uri": "https://localhost:8080/"
        },
        "id": "9oPBf3dqyUFP",
        "outputId": "62671270-7c3d-4ce7-d652-be41efa40e13"
      },
      "execution_count": null,
      "outputs": [
        {
          "output_type": "stream",
          "name": "stdout",
          "text": [
            "8. Sorted Tuples: [(2, 'a'), (1, 'b'), (3, 'c')]\n"
          ]
        }
      ]
    },
    {
      "cell_type": "markdown",
      "source": [
        "9. Write a Python program that uses map() to convert a list of temperatures from Celsius to Fahrenheit"
      ],
      "metadata": {
        "id": "qtGyhdKlzGQq"
      }
    },
    {
      "cell_type": "code",
      "source": [
        "celsius = [0, 20, 37, 100]\n",
        "fahrenheit = list(map(lambda c: (c * 9/5) + 32, celsius))\n",
        "print(\"9. Temperatures in Fahrenheit:\", fahrenheit)"
      ],
      "metadata": {
        "colab": {
          "base_uri": "https://localhost:8080/"
        },
        "id": "l6Fi-PUqzMJO",
        "outputId": "29028a49-ef3a-4cde-9cbe-47e43ee562c7"
      },
      "execution_count": null,
      "outputs": [
        {
          "output_type": "stream",
          "name": "stdout",
          "text": [
            "9. Temperatures in Fahrenheit: [32.0, 68.0, 98.6, 212.0]\n"
          ]
        }
      ]
    },
    {
      "cell_type": "markdown",
      "source": [
        "10. Remove Vowels using filter"
      ],
      "metadata": {
        "id": "DN07HXQEzf3a"
      }
    },
    {
      "cell_type": "code",
      "source": [
        "def remove_vowels(text):\n",
        "    return ''.join(filter(lambda c: c.lower() not in 'aeiou', text))\n",
        "\n",
        "print(\"10. String without vowels:\", remove_vowels(\"Beautiful day in Pune\"))"
      ],
      "metadata": {
        "colab": {
          "base_uri": "https://localhost:8080/"
        },
        "id": "iRdWUFM0z1a6",
        "outputId": "26839ac8-2499-43a7-c039-bfa80db1bfb5"
      },
      "execution_count": null,
      "outputs": [
        {
          "output_type": "stream",
          "name": "stdout",
          "text": [
            "10. String without vowels: Btfl dy n Pn\n"
          ]
        }
      ]
    },
    {
      "cell_type": "markdown",
      "source": [
        "11. Imagine an accounting routine used in a book shop. It works on a list with sublists, which look like this:\n",
        "\n",
        "Write a Python program, which returns a list with 2-tuples. Each tuple consists of the order number and the product of the price per item and the quantity. The product should be increased by 10,- € if the value of the order is smaller than 100,00 €.\n",
        "\n",
        "Write a Python program using lambda and map"
      ],
      "metadata": {
        "id": "IgpXBfVIz-Mf"
      }
    },
    {
      "cell_type": "code",
      "source": [
        "# Data: [Order Number, Book Title, Quantity]\n",
        "orders = [\n",
        "    [34587, \"Learning Python, Mark Lutz\", 4],\n",
        "    [98762, \"Programming Python, Mark Lutz\", 5],\n",
        "    [77226, \"Head First Python, Paul Barry\", 3],\n",
        "    [88112, \"Einfuhrung in Python3, Bernd Klein\", 3]\n",
        "]\n",
        "\n",
        "# Corresponding price per item list\n",
        "prices = [40.95, 56.80, 32.95, 24.99]\n",
        "\n",
        "# Combine data and calculate\n",
        "invoices = list(map(\n",
        "    lambda x: (x[0], round(x[2] * prices[orders.index(x)] + 10 if x[2] * prices[orders.index(x)] < 100 else x[2] * prices[orders.index(x)], 2)),\n",
        "    orders\n",
        "))\n",
        "\n",
        "# Display output\n",
        "print(\"11.Invoice Summary:\")\n",
        "for invoice in invoices:\n",
        "    print(invoice)\n",
        "\n"
      ],
      "metadata": {
        "colab": {
          "base_uri": "https://localhost:8080/"
        },
        "id": "TLFYSkUZ0ARG",
        "outputId": "2ecaa840-5b81-4b48-9f38-d9fc05525195"
      },
      "execution_count": null,
      "outputs": [
        {
          "output_type": "stream",
          "name": "stdout",
          "text": [
            "11.Invoice Summary:\n",
            "(34587, 163.8)\n",
            "(98762, 284.0)\n",
            "(77226, 108.85)\n",
            "(88112, 84.97)\n"
          ]
        }
      ]
    }
  ]
}